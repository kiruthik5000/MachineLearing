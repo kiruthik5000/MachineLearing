{
 "cells": [
  {
   "cell_type": "code",
   "execution_count": null,
   "metadata": {},
   "outputs": [],
   "source": [
    "import pandas as pd\n",
    "import numpy as np\n",
    "import matplotlib.pyplot as plt\n",
    "\n",
    "# for splitting the dataset into train and test sets\n",
    "from sklearn.model_selection import train_test_split\n",
    "\n",
    "# for normalize the values in the datasets\n",
    "from sklearn.preprocessing import StandardScaler\n",
    "\n",
    "# to calculate the MAE and MSE\n",
    "from sklearn.metrics import mean_absolute_error, mean_squared_error\n",
    "\n",
    "# various models to predict the prices\n",
    "from sklearn.linear_model import LinearRegression\n",
    "from sklearn.svm import SVR\n",
    "from sklearn.tree import DecisionTreeRegressor\n",
    "from sklearn.ensemble import RandomForestRegressor, GradientBoostingRegressor\n",
    "\n",
    "# tensorflow of a CNN model comparing the predefined model with the custom CNN\n",
    "import tensorflow as tf\n",
    "from tensorflow.keras.models import Sequential\n",
    "from tensorflow.keras.layers import Dense, Conv1D, Flatten, InputLayer\n"
   ]
  },
  {
   "cell_type": "code",
   "execution_count": null,
   "metadata": {},
   "outputs": [],
   "source": [
    "# Load dataset\n",
    "df = pd.read_csv('./housing.csv', header=None, delimiter='\\\\s+')\n",
    "\n",
    "# name the columns for the datasets\n",
    "df.columns = ['CRIM', 'ZN', 'INDUS', 'CHAS', 'NOX', 'RM', 'AGE',\n",
    "              'DIS', 'RAD', 'TAX', 'PTRATIO', 'B', 'LSTAT', 'MEDV']\n"
   ]
  },
  {
   "cell_type": "code",
   "execution_count": null,
   "metadata": {},
   "outputs": [],
   "source": [
    "# Split features and target\n",
    "X = df.drop('MEDV', axis=1) # group the remaining columns other than MEDV\n",
    "Y = df['MEDV'] # store the last column MEDV only\n",
    "\n",
    "# Train-Test Split\n",
    "x_train, x_test, y_train, y_test = train_test_split(X, Y, train_size=0.8, random_state=42) # splut the dataset int 8:2 ratio\n",
    "\n",
    "# Feature Scaling\n",
    "scaler = StandardScaler()  # create a object for the scaler\n",
    "\n",
    "# to give the datasets values to scaler to learn or comput the mean and standard deviation it will compute it\n",
    "x_train_scaled = scaler.fit_transform(x_train)\n",
    "\n",
    "# using the training dataset it will transform the test data too\n",
    "x_test_scaled = scaler.transform(x_test)\n"
   ]
  },
  {
   "cell_type": "code",
   "execution_count": null,
   "metadata": {},
   "outputs": [],
   "source": [
    "# Initialize traditional ML models\n",
    "models = {\n",
    "    \"Linear Regression\": LinearRegression(),\n",
    "    \"Support Vector Regressor\": SVR(),\n",
    "    \"Decision Tree\": DecisionTreeRegressor(random_state=42),\n",
    "    \"Random Forest\": RandomForestRegressor(random_state=42),\n",
    "    \"Gradient Boosting\": GradientBoostingRegressor(random_state=42)\n",
    "}"
   ]
  },
  {
   "cell_type": "code",
   "execution_count": null,
   "metadata": {},
   "outputs": [],
   "source": [
    "# Train and evaluate traditional models\n",
    "results = {}\n",
    "\n",
    "for name, model in models.items():\n",
    "\n",
    "    # train the models\n",
    "    model.fit(x_train_scaled, y_train)\n",
    "\n",
    "    # predict the models using test dataset\n",
    "    y_pred = model.predict(x_test_scaled)\n",
    "\n",
    "    # calculate the mean squared error \n",
    "    rmse = np.sqrt(mean_squared_error(y_test, y_pred))\n",
    "    \n",
    "    # mean absoulute error\n",
    "    mae = mean_absolute_error(y_test, y_pred)\n",
    "\n",
    "    # store the results back to the dictionary\n",
    "    results[name] = (rmse, mae)\n"
   ]
  },
  {
   "cell_type": "code",
   "execution_count": null,
   "metadata": {},
   "outputs": [],
   "source": [
    "# Simple CNN model\n",
    "# Reshape for Conv1D: (samples, timesteps, features) -> (num_samples, 13, 1)\n",
    "x_train_cnn = x_train_scaled.reshape(-1, x_train_scaled.shape[1], 1)\n",
    "x_test_cnn = x_test_scaled.reshape(-1, x_test_scaled.shape[1], 1)\n",
    "\n",
    "cnn_model = Sequential([\n",
    "    InputLayer(input_shape=(x_train_cnn.shape[1], 1)),\n",
    "    Conv1D(64, kernel_size=2, activation='relu'),\n",
    "    Flatten(),\n",
    "    Dense(64, activation='relu'),\n",
    "    Dense(1) # ouput will be the float as price\n",
    "])\n",
    "\n",
    "# compile the model\n",
    "cnn_model.compile(optimizer='adam', loss='mse', metrics=['mae'])\n",
    "\n",
    "# Train the CNN model\n",
    "cnn_model.fit(x_train_cnn, y_train, epochs=100, batch_size=16, verbose=0)\n",
    "\n",
    "# Evaluate CNN\n",
    "y_pred_cnn = cnn_model.predict(x_test_cnn).flatten()\n",
    "rmse_cnn = np.sqrt(mean_squared_error(y_test, y_pred_cnn))\n",
    "mae_cnn = mean_absolute_error(y_test, y_pred_cnn)\n",
    "\n",
    "# store the cnn results too\n",
    "results[\"CNN\"] = (rmse_cnn, mae_cnn)\n"
   ]
  },
  {
   "cell_type": "code",
   "execution_count": null,
   "metadata": {},
   "outputs": [],
   "source": [
    "# Display Results\n",
    "print(\"Model Evaluation (RMSE & MAE):\")\n",
    "for name, (rmse, mae) in results.items():\n",
    "    print(f\"{name:<25} -> RMSE: {rmse:.2f}, MAE: {mae:.2f}\")\n"
   ]
  },
  {
   "cell_type": "code",
   "execution_count": null,
   "metadata": {},
   "outputs": [],
   "source": [
    "# Plot Actual vs Predicted for the best model (lowest RMSE) \n",
    "best_model_name = min(results, key=lambda x: results[x][0]) # get the best model based on rmse\n",
    " \n",
    "if best_model_name == \"CNN\":\n",
    "    y_pred_best = y_pred_cnn\n",
    "else:\n",
    "    y_pred_best = models[best_model_name].predict(x_test_scaled) # if the model is perdefined model predict the test results again because we dont store it anywhere \n",
    "\n",
    "plt.figure(figsize=(8, 6))\n",
    "plt.scatter(y_test, y_pred_best, alpha=0.7)\n",
    "plt.plot([y_test.min(), y_test.max()], [y_test.min(), y_test.max()], 'r--')\n",
    "plt.xlabel(\"Actual MEDV\")\n",
    "plt.ylabel(\"Predicted MEDV\")\n",
    "plt.title(f\"{best_model_name}: Actual vs Predicted MEDV\")\n",
    "plt.grid(True)\n",
    "plt.tight_layout()\n",
    "plt.show()\n"
   ]
  }
 ],
 "metadata": {
  "kernelspec": {
   "display_name": ".venv",
   "language": "python",
   "name": "python3"
  },
  "language_info": {
   "codemirror_mode": {
    "name": "ipython",
    "version": 3
   },
   "file_extension": ".py",
   "mimetype": "text/x-python",
   "name": "python",
   "nbconvert_exporter": "python",
   "pygments_lexer": "ipython3",
   "version": "3.13.5"
  }
 },
 "nbformat": 4,
 "nbformat_minor": 2
}
